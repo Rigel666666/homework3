{
  "nbformat": 4,
  "nbformat_minor": 0,
  "metadata": {
    "colab": {
      "provenance": []
    },
    "kernelspec": {
      "name": "python3",
      "display_name": "Python 3"
    },
    "language_info": {
      "name": "python"
    }
  },
  "cells": [
    {
      "cell_type": "markdown",
      "source": [],
      "metadata": {
        "id": "wbRj9hXNEEia"
      }
    },
    {
      "cell_type": "code",
      "execution_count": 3,
      "metadata": {
        "colab": {
          "base_uri": "https://localhost:8080/"
        },
        "id": "4jBSog8JB67D",
        "outputId": "d60dc319-2eef-43ee-aa34-7df4595ce7b1"
      },
      "outputs": [
        {
          "output_type": "stream",
          "name": "stdout",
          "text": [
            "請輸入數字6\n",
            "1x1= 1\n",
            "1x2= 2\n",
            "1x3= 3\n",
            "1x4= 4\n",
            "1x5= 5\n",
            "1x6= 6\n",
            "2x1= 2\n",
            "2x2= 4\n",
            "2x3= 6\n",
            "2x4= 8\n",
            "2x5= 10\n",
            "2x6= 12\n",
            "3x1= 3\n",
            "3x2= 6\n",
            "3x3= 9\n",
            "3x4= 12\n",
            "3x5= 15\n",
            "3x6= 18\n",
            "4x1= 4\n",
            "4x2= 8\n",
            "4x3= 12\n",
            "4x4= 16\n",
            "4x5= 20\n",
            "4x6= 24\n",
            "5x1= 5\n",
            "5x2= 10\n",
            "5x3= 15\n",
            "5x4= 20\n",
            "5x5= 25\n",
            "5x6= 30\n",
            "6x1= 6\n",
            "6x2= 12\n",
            "6x3= 18\n",
            "6x4= 24\n",
            "6x5= 30\n",
            "6x6= 36\n"
          ]
        }
      ],
      "source": [
        "num = int(input(\"請輸入數字\"))\n",
        "for i in range(1,num+1):\n",
        "  for j in range(1,num+1):\n",
        "    product = i * j\n",
        "    print (f\"{i}x{j}= {product}\")\n"
      ]
    },
    {
      "cell_type": "code",
      "source": [
        "import random\n",
        "target_number = random.randint(1, 100)\n",
        "print(\"來玩猜數字黑\")\n",
        "while True:\n",
        " guess = int (input(\"你猜多少?\"))\n",
        " if guess > target_number:\n",
        "  print(\"太高囉\")\n",
        " elif guess < target_number:\n",
        "  print(\"太低囉\")\n",
        " elif guess == target_number:\n",
        "  print(f\"答對囉! the answer is {target_number}\")\n",
        "  break\n",
        "print(\"遊戲結束啦!\")\n"
      ],
      "metadata": {
        "colab": {
          "base_uri": "https://localhost:8080/"
        },
        "id": "bbH68kdPFcoR",
        "outputId": "a749ed96-2d9a-42db-b5b4-8ee34cda7e19"
      },
      "execution_count": 13,
      "outputs": [
        {
          "output_type": "stream",
          "name": "stdout",
          "text": [
            "來玩猜數字黑\n",
            "你猜多少?50\n",
            "太低囉\n",
            "你猜多少?70\n",
            "太低囉\n",
            "你猜多少?90\n",
            "太低囉\n",
            "你猜多少?95\n",
            "太低囉\n",
            "你猜多少?100\n",
            "太高囉\n",
            "你猜多少?97\n",
            "太低囉\n",
            "你猜多少?98\n",
            "太低囉\n",
            "你猜多少?99\n",
            "答對囉! the answer is 99\n",
            "遊戲結束啦!\n"
          ]
        }
      ]
    }
  ]
}