{
  "nbformat": 4,
  "nbformat_minor": 0,
  "metadata": {
    "colab": {
      "provenance": []
    },
    "kernelspec": {
      "name": "python3",
      "display_name": "Python 3"
    },
    "language_info": {
      "name": "python"
    }
  },
  "cells": [
    {
      "cell_type": "code",
      "execution_count": null,
      "metadata": {
        "colab": {
          "base_uri": "https://localhost:8080/"
        },
        "id": "2T-fgJAi9dTH",
        "outputId": "efe72e4a-ed5a-4a90-b905-168a7a8cd3e6"
      },
      "outputs": [
        {
          "output_type": "stream",
          "name": "stdout",
          "text": [
            "['劉怡君', 'B1205020']\n",
            "<class 'str'> <class 'str'>\n"
          ]
        }
      ],
      "source": [
        "name = '劉怡君'\n",
        "id = 'B1205020'\n",
        "me = [name,id]\n",
        "print(me)\n",
        "print(type(name),type(id))"
      ]
    }
  ]
}